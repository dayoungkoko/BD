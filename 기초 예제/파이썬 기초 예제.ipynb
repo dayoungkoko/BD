{
 "cells": [
  {
   "cell_type": "code",
   "execution_count": 1,
   "id": "bfa01c51",
   "metadata": {},
   "outputs": [
    {
     "name": "stderr",
     "output_type": "stream",
     "text": [
      "Cloning into 'yemoonsaBigdata'...\n"
     ]
    }
   ],
   "source": [
    "!git clone https://github.com/AnalyticsKnight/yemoonsaBigdata/"
   ]
  },
  {
   "cell_type": "code",
   "execution_count": 3,
   "id": "024b857e",
   "metadata": {},
   "outputs": [
    {
     "name": "stdout",
     "output_type": "stream",
     "text": [
      "2\n"
     ]
    }
   ],
   "source": [
    "# 문자 개수 세기\n",
    "a = 'apple'\n",
    "b = a.count('p')\n",
    "print(b)"
   ]
  },
  {
   "cell_type": "code",
   "execution_count": 5,
   "id": "dec53d7f",
   "metadata": {},
   "outputs": [
    {
     "name": "stdout",
     "output_type": "stream",
     "text": [
      "1\n"
     ]
    }
   ],
   "source": [
    "#문자 위치 찾기 : 문자열 중 특정 문자가 첫번째로 등장하는 인덱스 반환\n",
    "a = 'apple'\n",
    "b = a.find('p')\n",
    "print(b)"
   ]
  },
  {
   "cell_type": "code",
   "execution_count": 6,
   "id": "f346e225",
   "metadata": {},
   "outputs": [
    {
     "name": "stdout",
     "output_type": "stream",
     "text": [
      "a,p,p,l,e\n"
     ]
    }
   ],
   "source": [
    "#문자열 삽입 : 문자열에 특정 문자 삽입\n",
    "a = 'apple'\n",
    "b = ','.join(a)\n",
    "print(b)"
   ]
  },
  {
   "cell_type": "code",
   "execution_count": 7,
   "id": "97f270e4",
   "metadata": {},
   "outputs": [
    {
     "name": "stdout",
     "output_type": "stream",
     "text": [
      "apple    \n",
      "    apple\n",
      "apple\n"
     ]
    }
   ],
   "source": [
    "#공백 지우기\n",
    "a = '    apple    '\n",
    "print(a.lstrip()) #왼쪽 공백 지우기\n",
    "print(a.rstrip()) #오른쪽 공백 지우기\n",
    "print(a.strip()) #공백 지우기"
   ]
  },
  {
   "cell_type": "code",
   "execution_count": 8,
   "id": "eaf19157",
   "metadata": {},
   "outputs": [
    {
     "name": "stdout",
     "output_type": "stream",
     "text": [
      "Python is good\n"
     ]
    }
   ],
   "source": [
    "#문자열 바꾸기\n",
    "a = 'Life is good'\n",
    "b = a.replace('Life', 'Python')\n",
    "print(b)"
   ]
  },
  {
   "cell_type": "code",
   "execution_count": 11,
   "id": "9a20ed36",
   "metadata": {},
   "outputs": [
    {
     "name": "stdout",
     "output_type": "stream",
     "text": [
      "['L', 'i', 'f', 'e', ' ', 'i', 's', ' ', 'g', 'o', 'o', 'd']\n",
      "['Life', 'is', 'good']\n"
     ]
    }
   ],
   "source": [
    "#문자열을 리스트 자료형으로\n",
    "a = 'Life is good'\n",
    "print(list(a)) # 공백포함 문자마다 리스트로 변환\n",
    "print(a.split()) # 공백 기준으로 단어를 구분하여 리스트로"
   ]
  },
  {
   "cell_type": "code",
   "execution_count": 12,
   "id": "7e3c70ce",
   "metadata": {},
   "outputs": [
    {
     "name": "stdout",
     "output_type": "stream",
     "text": [
      "[1, 2, 3, 1, 2, 3]\n",
      "[1, 2, 3, 4, 5, 6]\n"
     ]
    }
   ],
   "source": [
    "lst = [1,2,3]\n",
    "lst2 = [4,5,6]\n",
    "print(lst*2)\n",
    "print(lst + lst2)"
   ]
  },
  {
   "cell_type": "code",
   "execution_count": 14,
   "id": "52720fe8",
   "metadata": {},
   "outputs": [],
   "source": [
    "a = [1,2,3,4,5]\n",
    "del a[0]"
   ]
  },
  {
   "cell_type": "code",
   "execution_count": 15,
   "id": "6849078b",
   "metadata": {},
   "outputs": [
    {
     "data": {
      "text/plain": [
       "[2, 3, 4, 5]"
      ]
     },
     "execution_count": 15,
     "metadata": {},
     "output_type": "execute_result"
    }
   ],
   "source": [
    "a"
   ]
  },
  {
   "cell_type": "code",
   "execution_count": 16,
   "id": "08445a4d",
   "metadata": {},
   "outputs": [],
   "source": [
    "a.remove(2)"
   ]
  },
  {
   "cell_type": "code",
   "execution_count": 17,
   "id": "e23e70ed",
   "metadata": {},
   "outputs": [
    {
     "data": {
      "text/plain": [
       "[3, 4, 5]"
      ]
     },
     "execution_count": 17,
     "metadata": {},
     "output_type": "execute_result"
    }
   ],
   "source": [
    "a"
   ]
  },
  {
   "cell_type": "code",
   "execution_count": 18,
   "id": "226e9ff7",
   "metadata": {},
   "outputs": [
    {
     "name": "stdout",
     "output_type": "stream",
     "text": [
      "2\n",
      "3\n"
     ]
    }
   ],
   "source": [
    "a = [5,4,3,2,2]\n",
    "b = a.index(3)\n",
    "c = a.index(2) #첫번째 인덱스 반환\n",
    "\n",
    "print(b)\n",
    "print(c)"
   ]
  },
  {
   "cell_type": "code",
   "execution_count": 19,
   "id": "38f296d3",
   "metadata": {},
   "outputs": [
    {
     "name": "stdout",
     "output_type": "stream",
     "text": [
      "[5, 3, 2, 1, 5, 4, 3, 2, 1]\n",
      "4\n"
     ]
    }
   ],
   "source": [
    "#리스트 요소 뽑기\n",
    "a = [5,4,3,2,1,5,4,3,2,1]\n",
    "b = a.pop(1) #a[1] 원소 뽑아서 제거\n",
    "\n",
    "print(a)\n",
    "print(b)"
   ]
  },
  {
   "cell_type": "code",
   "execution_count": 20,
   "id": "e16927b9",
   "metadata": {},
   "outputs": [
    {
     "name": "stdout",
     "output_type": "stream",
     "text": [
      "(1, 2, 3, 1, 2, 3)\n",
      "(1, 2, 3, 4, 5, 6)\n"
     ]
    }
   ],
   "source": [
    "a = (1,2,3)\n",
    "b = (4,5,6)\n",
    "print(a*2)\n",
    "print(a+b)"
   ]
  },
  {
   "cell_type": "code",
   "execution_count": 23,
   "id": "06e4a5a5",
   "metadata": {},
   "outputs": [
    {
     "name": "stdout",
     "output_type": "stream",
     "text": [
      "{'name': 'John', 'age': 30, 'house': 'apartment', 'birth': [11, 8]}\n",
      "{'name': 'John', 'age': 30, 'birth': [11, 8]}\n"
     ]
    }
   ],
   "source": [
    "a = {'name' : 'John'}\n",
    "a['age'] = 30\n",
    "a['house'] = 'apartment'\n",
    "a['birth'] = [11,8]\n",
    "print(a)\n",
    "\n",
    "del a['house']\n",
    "print(a)"
   ]
  },
  {
   "cell_type": "code",
   "execution_count": 25,
   "id": "8b075021",
   "metadata": {},
   "outputs": [
    {
     "name": "stdout",
     "output_type": "stream",
     "text": [
      "{'name': 'John', 'age': 30, 'birth': [11, 8]}\n",
      "John\n",
      "None\n",
      "No data\n"
     ]
    }
   ],
   "source": [
    "#딕셔너리로 key로 값 호출하기\n",
    "a = {'name' : 'John', 'age' : 30, 'birth' : [11,8]}\n",
    "b = a.get('name') #'name'을 key로 하는 value반환\n",
    "c = a.get('house') #'house'를 key로 하는 value 반환 -> 없으므로 None\n",
    "d = a.get('house', 'No data') #'house'를 key로 하는 value를 반환하는데 없으면 'No data'를 반환\n",
    "\n",
    "print(a, b, c, d, sep = '\\n')"
   ]
  },
  {
   "cell_type": "code",
   "execution_count": 27,
   "id": "7cda86fb",
   "metadata": {},
   "outputs": [
    {
     "name": "stdout",
     "output_type": "stream",
     "text": [
      "{'o', 'h', 'n', 'y', 'P', 't'}\n"
     ]
    }
   ],
   "source": [
    "data = set('Python')\n",
    "print(data) #"
   ]
  },
  {
   "cell_type": "code",
   "execution_count": 28,
   "id": "7a477523",
   "metadata": {},
   "outputs": [
    {
     "name": "stdout",
     "output_type": "stream",
     "text": [
      "{3, 4, 5}\n",
      "{3, 4, 5}\n"
     ]
    }
   ],
   "source": [
    "a = set([1,2,3,4,5])\n",
    "b = set([3,4,5,6,7])\n",
    "\n",
    "#교집합\n",
    "c = a&b\n",
    "d = a.intersection(b)\n",
    "print(c, d, sep='\\n')"
   ]
  },
  {
   "cell_type": "code",
   "execution_count": 30,
   "id": "6ec0bdcc",
   "metadata": {},
   "outputs": [
    {
     "name": "stdout",
     "output_type": "stream",
     "text": [
      "{1, 2, 3, 4, 5, 6, 7}\n",
      "{1, 2, 3, 4, 5, 6, 7}\n"
     ]
    }
   ],
   "source": [
    "#합집합\n",
    "e = a|b\n",
    "f = a.union(b)\n",
    "print(e,f, sep='\\n')"
   ]
  },
  {
   "cell_type": "code",
   "execution_count": 31,
   "id": "a495739e",
   "metadata": {},
   "outputs": [
    {
     "name": "stdout",
     "output_type": "stream",
     "text": [
      "{1, 2}\n",
      "{1, 2}\n"
     ]
    }
   ],
   "source": [
    "#차집합\n",
    "h = a-b\n",
    "i = a.difference(b)\n",
    "print(h, i, sep='\\n')"
   ]
  },
  {
   "cell_type": "code",
   "execution_count": null,
   "id": "43bd08b0",
   "metadata": {},
   "outputs": [],
   "source": []
  }
 ],
 "metadata": {
  "kernelspec": {
   "display_name": "Python 3 (ipykernel)",
   "language": "python",
   "name": "python3"
  },
  "language_info": {
   "codemirror_mode": {
    "name": "ipython",
    "version": 3
   },
   "file_extension": ".py",
   "mimetype": "text/x-python",
   "name": "python",
   "nbconvert_exporter": "python",
   "pygments_lexer": "ipython3",
   "version": "3.9.13"
  },
  "toc": {
   "base_numbering": 1,
   "nav_menu": {},
   "number_sections": true,
   "sideBar": true,
   "skip_h1_title": false,
   "title_cell": "Table of Contents",
   "title_sidebar": "Contents",
   "toc_cell": false,
   "toc_position": {},
   "toc_section_display": true,
   "toc_window_display": false
  },
  "varInspector": {
   "cols": {
    "lenName": 16,
    "lenType": 16,
    "lenVar": 40
   },
   "kernels_config": {
    "python": {
     "delete_cmd_postfix": "",
     "delete_cmd_prefix": "del ",
     "library": "var_list.py",
     "varRefreshCmd": "print(var_dic_list())"
    },
    "r": {
     "delete_cmd_postfix": ") ",
     "delete_cmd_prefix": "rm(",
     "library": "var_list.r",
     "varRefreshCmd": "cat(var_dic_list()) "
    }
   },
   "types_to_exclude": [
    "module",
    "function",
    "builtin_function_or_method",
    "instance",
    "_Feature"
   ],
   "window_display": false
  }
 },
 "nbformat": 4,
 "nbformat_minor": 5
}
