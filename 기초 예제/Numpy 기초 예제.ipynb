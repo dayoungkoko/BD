{
 "cells": [
  {
   "cell_type": "code",
   "execution_count": 1,
   "id": "9628ba09",
   "metadata": {},
   "outputs": [],
   "source": [
    "import numpy as np"
   ]
  },
  {
   "cell_type": "code",
   "execution_count": 2,
   "id": "3296bf80",
   "metadata": {},
   "outputs": [
    {
     "name": "stdout",
     "output_type": "stream",
     "text": [
      "[1 2 3]\n",
      "<class 'numpy.ndarray'>\n",
      "(3,)\n"
     ]
    }
   ],
   "source": [
    "a1 = np.array([1,2,3])\n",
    "\n",
    "print(a1)\n",
    "print(type(a1))\n",
    "print(a1.shape) #1차원 배열에 3개의 데이터를 가지고 있음"
   ]
  },
  {
   "cell_type": "code",
   "execution_count": 6,
   "id": "8d3e9f36",
   "metadata": {},
   "outputs": [
    {
     "name": "stdout",
     "output_type": "stream",
     "text": [
      "[[1 2 3]\n",
      " [4 5 6]]\n",
      "<class 'numpy.ndarray'>\n",
      "(2, 3)\n"
     ]
    }
   ],
   "source": [
    "a2 = np.array([[1,2,3],[4,5,6]])\n",
    "print(a2)\n",
    "print(type(a2))\n",
    "print(a2.shape) #2차원 배열 2행 3열"
   ]
  },
  {
   "cell_type": "code",
   "execution_count": 7,
   "id": "3f14068e",
   "metadata": {},
   "outputs": [
    {
     "name": "stdout",
     "output_type": "stream",
     "text": [
      "[[1 2 3]]\n",
      "<class 'numpy.ndarray'>\n",
      "(1, 3)\n"
     ]
    }
   ],
   "source": [
    "a3 = np.array([[1,2,3]])\n",
    "print(a3)\n",
    "print(type(a3))\n",
    "print(a3.shape) #2차원 배열 1행 3열"
   ]
  },
  {
   "cell_type": "code",
   "execution_count": 8,
   "id": "55240d75",
   "metadata": {},
   "outputs": [
    {
     "name": "stdout",
     "output_type": "stream",
     "text": [
      "1\n",
      "2\n",
      "2\n"
     ]
    }
   ],
   "source": [
    "print(a1.ndim) #1차원 배열\n",
    "print(a2.ndim) #2차원 배열\n",
    "print(a3.ndim) #2차원 배열"
   ]
  },
  {
   "cell_type": "code",
   "execution_count": 9,
   "id": "866172ae",
   "metadata": {},
   "outputs": [
    {
     "name": "stdout",
     "output_type": "stream",
     "text": [
      "[ 0  1  2  3  4  5  6  7  8  9 10 11 12 13 14 15 16 17 18 19]\n"
     ]
    }
   ],
   "source": [
    "a = np.arange(20)\n",
    "print(a)"
   ]
  },
  {
   "cell_type": "code",
   "execution_count": 10,
   "id": "1e3189e3",
   "metadata": {},
   "outputs": [
    {
     "name": "stdout",
     "output_type": "stream",
     "text": [
      "<class 'numpy.ndarray'>\n",
      "1\n",
      "(20,)\n"
     ]
    }
   ],
   "source": [
    "print(type(a))\n",
    "print(a.ndim)\n",
    "print(a.shape)"
   ]
  },
  {
   "cell_type": "code",
   "execution_count": 11,
   "id": "ee113f36",
   "metadata": {},
   "outputs": [
    {
     "name": "stdout",
     "output_type": "stream",
     "text": [
      "[ 1  4  7 10 13 16 19]\n",
      "1\n",
      "(7,)\n"
     ]
    }
   ],
   "source": [
    "a = np.arange(1,20,3)\n",
    "print(a)\n",
    "print(a.ndim)\n",
    "print(a.shape)"
   ]
  },
  {
   "cell_type": "code",
   "execution_count": 13,
   "id": "f10c6532",
   "metadata": {},
   "outputs": [
    {
     "name": "stdout",
     "output_type": "stream",
     "text": [
      "[[0. 0. 0. 0. 0.]\n",
      " [0. 0. 0. 0. 0.]]\n",
      "2\n",
      "(2, 5)\n"
     ]
    }
   ],
   "source": [
    "zero_a = np.zeros((2,5))\n",
    "print(zero_a)\n",
    "print(zero_a.ndim)\n",
    "print(zero_a.shape)"
   ]
  },
  {
   "cell_type": "code",
   "execution_count": 14,
   "id": "554bf020",
   "metadata": {},
   "outputs": [
    {
     "name": "stdout",
     "output_type": "stream",
     "text": [
      "[[1. 1. 1. 1.]\n",
      " [1. 1. 1. 1.]\n",
      " [1. 1. 1. 1.]]\n",
      "2\n",
      "(3, 4)\n"
     ]
    }
   ],
   "source": [
    "ones_a = np.ones((3,4))\n",
    "print(ones_a)\n",
    "print(ones_a.ndim)\n",
    "print(ones_a.shape)"
   ]
  },
  {
   "cell_type": "code",
   "execution_count": 15,
   "id": "6936a017",
   "metadata": {},
   "outputs": [
    {
     "name": "stdout",
     "output_type": "stream",
     "text": [
      "[[0. 0. 0. 0.]\n",
      " [0. 0. 0. 0.]\n",
      " [0. 0. 0. 0.]]\n",
      "(3, 4)\n"
     ]
    }
   ],
   "source": [
    "zero_b = np.zeros_like(ones_a)\n",
    "print(zero_b)\n",
    "print(zero_b.shape)"
   ]
  },
  {
   "cell_type": "code",
   "execution_count": 16,
   "id": "ab4603b7",
   "metadata": {},
   "outputs": [
    {
     "name": "stdout",
     "output_type": "stream",
     "text": [
      "[[1. 1. 1. 1. 1.]\n",
      " [1. 1. 1. 1. 1.]]\n",
      "(2, 5)\n"
     ]
    }
   ],
   "source": [
    "ones_b = np.ones_like(zero_a)\n",
    "print(ones_b)\n",
    "print(ones_b.shape)"
   ]
  },
  {
   "cell_type": "code",
   "execution_count": 17,
   "id": "d40eaa28",
   "metadata": {},
   "outputs": [
    {
     "name": "stdout",
     "output_type": "stream",
     "text": [
      "[[9 9 9]\n",
      " [9 9 9]\n",
      " [9 9 9]\n",
      " [9 9 9]]\n",
      "(4, 3)\n"
     ]
    }
   ],
   "source": [
    "full_a = np.full((4,3), 9)\n",
    "print(full_a)\n",
    "print(full_a.shape)"
   ]
  },
  {
   "cell_type": "code",
   "execution_count": 18,
   "id": "716bc409",
   "metadata": {},
   "outputs": [
    {
     "name": "stdout",
     "output_type": "stream",
     "text": [
      "[[0.29391762 0.2044284  0.42850258 0.51320548]\n",
      " [0.98973956 0.46500683 0.00223873 0.50729878]\n",
      " [0.27519688 0.59095023 0.44885624 0.09089071]]\n",
      "(3, 4)\n"
     ]
    }
   ],
   "source": [
    "random_a = np.random.random((3,4))\n",
    "print(random_a)\n",
    "print(random_a.shape)"
   ]
  },
  {
   "cell_type": "code",
   "execution_count": 21,
   "id": "c6cf5e0a",
   "metadata": {},
   "outputs": [
    {
     "name": "stdout",
     "output_type": "stream",
     "text": [
      "[[1. 0. 0. 0.]\n",
      " [0. 1. 0. 0.]\n",
      " [0. 0. 1. 0.]\n",
      " [0. 0. 0. 1.]]\n"
     ]
    }
   ],
   "source": [
    "eye_a = np.eye(4)\n",
    "print(eye_a)"
   ]
  },
  {
   "cell_type": "code",
   "execution_count": 24,
   "id": "dd014656",
   "metadata": {},
   "outputs": [
    {
     "name": "stdout",
     "output_type": "stream",
     "text": [
      "[ 0  1  2  3  4  5  6  7  8  9 10 11]\n",
      "[[ 0  1  2  3]\n",
      " [ 4  5  6  7]\n",
      " [ 8  9 10 11]]\n",
      "[[ 0  3  6  9]\n",
      " [ 1  4  7 10]\n",
      " [ 2  5  8 11]]\n"
     ]
    }
   ],
   "source": [
    "arr = np.arange(12) # [0 1 2 3 4 5 6 7 8 9 10 11]\n",
    "arr2 = arr.reshape(3,4) #arr를 3행 4열로 변환\n",
    "arr3= arr.reshape(3,4, order = 'F') #arr를 3행 4열로 변환하는데 값을 열부터 채워 넣음\n",
    "\n",
    "print(arr)\n",
    "print(arr2)\n",
    "print(arr3)"
   ]
  },
  {
   "cell_type": "code",
   "execution_count": 25,
   "id": "6cf54e86",
   "metadata": {},
   "outputs": [
    {
     "name": "stdout",
     "output_type": "stream",
     "text": [
      "[[0 1 2 3 4]\n",
      " [5 6 7 8 9]]\n",
      "2\n",
      "(2, 5)\n"
     ]
    }
   ],
   "source": [
    "arr = np.arange(10)\n",
    "arr2 = arr.reshape(-1,5)\n",
    "\n",
    "print(arr2)\n",
    "print(arr2.ndim)\n",
    "print(arr2.shape)"
   ]
  },
  {
   "cell_type": "code",
   "execution_count": 27,
   "id": "987651a9",
   "metadata": {},
   "outputs": [
    {
     "name": "stdout",
     "output_type": "stream",
     "text": [
      "[[[ 0  6]\n",
      "  [ 2  8]\n",
      "  [ 4 10]]\n",
      "\n",
      " [[ 1  7]\n",
      "  [ 3  9]\n",
      "  [ 5 11]]]\n",
      "3\n",
      "(2, 3, 2)\n"
     ]
    }
   ],
   "source": [
    "arr = np.arange(12)\n",
    "arr2 = arr.reshape(2,3,2, order = 'F')\n",
    "\n",
    "print(arr2)\n",
    "print(arr2.ndim)\n",
    "print(arr2.shape)"
   ]
  },
  {
   "cell_type": "code",
   "execution_count": 28,
   "id": "bc00124b",
   "metadata": {},
   "outputs": [
    {
     "name": "stdout",
     "output_type": "stream",
     "text": [
      "[1 2 3 4 5 6]\n"
     ]
    }
   ],
   "source": [
    "arr2= np.array([[1,2,3],[4,5,6]])\n",
    "arr = arr2.flatten()\n",
    "print(arr)"
   ]
  },
  {
   "cell_type": "code",
   "execution_count": 29,
   "id": "46d488b3",
   "metadata": {},
   "outputs": [
    {
     "name": "stdout",
     "output_type": "stream",
     "text": [
      "[1 2 3 4 5 6 7 8 9]\n"
     ]
    }
   ],
   "source": [
    "array1 = np.arange(1,10)\n",
    "print(array1)"
   ]
  },
  {
   "cell_type": "code",
   "execution_count": 30,
   "id": "11ee8e72",
   "metadata": {},
   "outputs": [
    {
     "name": "stdout",
     "output_type": "stream",
     "text": [
      "3\n"
     ]
    }
   ],
   "source": [
    "print(array1[2])"
   ]
  },
  {
   "cell_type": "code",
   "execution_count": 31,
   "id": "7e9961ec",
   "metadata": {
    "scrolled": true
   },
   "outputs": [
    {
     "name": "stdout",
     "output_type": "stream",
     "text": [
      "8\n"
     ]
    }
   ],
   "source": [
    "print(array1[-2])"
   ]
  },
  {
   "cell_type": "code",
   "execution_count": 35,
   "id": "acbfb65a",
   "metadata": {},
   "outputs": [
    {
     "data": {
      "text/plain": [
       "array([1, 2, 3])"
      ]
     },
     "execution_count": 35,
     "metadata": {},
     "output_type": "execute_result"
    }
   ],
   "source": [
    "array1[0:3]"
   ]
  },
  {
   "cell_type": "code",
   "execution_count": 32,
   "id": "1ad9a399",
   "metadata": {},
   "outputs": [
    {
     "name": "stdout",
     "output_type": "stream",
     "text": [
      "[[1 2 3]\n",
      " [4 5 6]\n",
      " [7 8 9]]\n"
     ]
    }
   ],
   "source": [
    "arr = np.arange(1,10)\n",
    "arr = arr.reshape(3,3)\n",
    "print(arr)"
   ]
  },
  {
   "cell_type": "code",
   "execution_count": 33,
   "id": "0c2c5b17",
   "metadata": {},
   "outputs": [
    {
     "data": {
      "text/plain": [
       "1"
      ]
     },
     "execution_count": 33,
     "metadata": {},
     "output_type": "execute_result"
    }
   ],
   "source": [
    "arr[0][0]"
   ]
  },
  {
   "cell_type": "code",
   "execution_count": 34,
   "id": "f5bbea65",
   "metadata": {},
   "outputs": [
    {
     "data": {
      "text/plain": [
       "9"
      ]
     },
     "execution_count": 34,
     "metadata": {},
     "output_type": "execute_result"
    }
   ],
   "source": [
    "arr[2][2]"
   ]
  },
  {
   "cell_type": "code",
   "execution_count": 41,
   "id": "dd7c726a",
   "metadata": {},
   "outputs": [],
   "source": [
    "lst = [[1,2,3],[4,5,6],[7,8,9]]"
   ]
  },
  {
   "cell_type": "code",
   "execution_count": 42,
   "id": "da3f7311",
   "metadata": {},
   "outputs": [
    {
     "data": {
      "text/plain": [
       "[1, 2, 3]"
      ]
     },
     "execution_count": 42,
     "metadata": {},
     "output_type": "execute_result"
    }
   ],
   "source": [
    "lst[0]"
   ]
  },
  {
   "cell_type": "code",
   "execution_count": 46,
   "id": "ad2dea1a",
   "metadata": {},
   "outputs": [
    {
     "data": {
      "text/plain": [
       "[[4, 5, 6], [7, 8, 9]]"
      ]
     },
     "execution_count": 46,
     "metadata": {},
     "output_type": "execute_result"
    }
   ],
   "source": [
    "lst[:3][1:]"
   ]
  },
  {
   "cell_type": "code",
   "execution_count": 48,
   "id": "71ae7824",
   "metadata": {},
   "outputs": [
    {
     "name": "stdout",
     "output_type": "stream",
     "text": [
      "[[ 58  64]\n",
      " [139 154]]\n"
     ]
    }
   ],
   "source": [
    "arr1 = np.array([[1,2,3],\n",
    "                [4,5,6]])\n",
    "arr2 = np.array([[7,8],\n",
    "                [9,10],\n",
    "                [11,12]])\n",
    "dot_arr = np.dot(arr1, arr2)\n",
    "print(dot_arr)"
   ]
  },
  {
   "cell_type": "code",
   "execution_count": 51,
   "id": "fafc46d6",
   "metadata": {},
   "outputs": [
    {
     "name": "stdout",
     "output_type": "stream",
     "text": [
      "[[1 4]\n",
      " [2 5]\n",
      " [3 6]]\n"
     ]
    }
   ],
   "source": [
    "arr1 = np.array([[1,2,3],\n",
    "                [4,5,6]])\n",
    "arr_t = arr1.T\n",
    "print(arr_t)"
   ]
  },
  {
   "cell_type": "code",
   "execution_count": 53,
   "id": "4b9dc6f6",
   "metadata": {},
   "outputs": [
    {
     "data": {
      "text/plain": [
       "3"
      ]
     },
     "execution_count": 53,
     "metadata": {},
     "output_type": "execute_result"
    }
   ],
   "source": [
    "len(arr_t)"
   ]
  },
  {
   "cell_type": "code",
   "execution_count": 55,
   "id": "d994acc9",
   "metadata": {},
   "outputs": [
    {
     "name": "stdout",
     "output_type": "stream",
     "text": [
      "18\n",
      "3\n",
      "(3, 6)\n"
     ]
    }
   ],
   "source": [
    "arr = np.arange(18)\n",
    "print(len(arr))\n",
    "\n",
    "arr2 = arr.reshape(-1,6)\n",
    "print(len(arr2))\n",
    "print(arr2.shape)"
   ]
  },
  {
   "cell_type": "code",
   "execution_count": 56,
   "id": "80c7893e",
   "metadata": {},
   "outputs": [
    {
     "name": "stdout",
     "output_type": "stream",
     "text": [
      "26\n",
      "4.8076923076923075\n",
      "115.23224852071006\n",
      "10.734628476137871\n"
     ]
    }
   ],
   "source": [
    "x = np.array([18, 5, 10, 23, 19, -8, 10, 0, 0, 5, 2, 15, 8, 2, 5, 4, 15, -1, 4, -7, -24, 7, 9, -6, 23, -13])\n",
    "print(len(x))\n",
    "print(np.mean(x))\n",
    "print(np.var(x))\n",
    "print(np.std(x))"
   ]
  },
  {
   "cell_type": "code",
   "execution_count": 57,
   "id": "96dfae72",
   "metadata": {},
   "outputs": [
    {
     "name": "stdout",
     "output_type": "stream",
     "text": [
      "23\n",
      "-24\n",
      "5.0\n"
     ]
    }
   ],
   "source": [
    "x = np.array([18, 5, 10, 23, 19, -8, 10, 0, 0, 5, 2, 15, 8, 2, 5, 4, 15, -1, 4, -7, -24, 7, 9, -6, 23, -13])\n",
    "print(np.max(x))\n",
    "print(np.min(x))\n",
    "print(np.median(x))"
   ]
  },
  {
   "cell_type": "code",
   "execution_count": 58,
   "id": "dfe05b1a",
   "metadata": {},
   "outputs": [
    {
     "name": "stdout",
     "output_type": "stream",
     "text": [
      "0.0\n",
      "5.0\n",
      "10.0\n"
     ]
    }
   ],
   "source": [
    "x = np.array([18, 5, 10, 23, 19, -8, 10, 0, 0, 5, 2, 15, 8, 2, 5, 4, 15, -1, 4, -7, -24, 7, 9, -6, 23, -13])\n",
    "print(np.percentile(x,25))\n",
    "print(np.percentile(x,50))\n",
    "print(np.percentile(x,75))"
   ]
  },
  {
   "cell_type": "code",
   "execution_count": null,
   "id": "faff3c8a",
   "metadata": {},
   "outputs": [],
   "source": []
  }
 ],
 "metadata": {
  "kernelspec": {
   "display_name": "Python 3 (ipykernel)",
   "language": "python",
   "name": "python3"
  },
  "language_info": {
   "codemirror_mode": {
    "name": "ipython",
    "version": 3
   },
   "file_extension": ".py",
   "mimetype": "text/x-python",
   "name": "python",
   "nbconvert_exporter": "python",
   "pygments_lexer": "ipython3",
   "version": "3.9.13"
  },
  "toc": {
   "base_numbering": 1,
   "nav_menu": {},
   "number_sections": true,
   "sideBar": true,
   "skip_h1_title": false,
   "title_cell": "Table of Contents",
   "title_sidebar": "Contents",
   "toc_cell": false,
   "toc_position": {},
   "toc_section_display": true,
   "toc_window_display": false
  },
  "varInspector": {
   "cols": {
    "lenName": 16,
    "lenType": 16,
    "lenVar": 40
   },
   "kernels_config": {
    "python": {
     "delete_cmd_postfix": "",
     "delete_cmd_prefix": "del ",
     "library": "var_list.py",
     "varRefreshCmd": "print(var_dic_list())"
    },
    "r": {
     "delete_cmd_postfix": ") ",
     "delete_cmd_prefix": "rm(",
     "library": "var_list.r",
     "varRefreshCmd": "cat(var_dic_list()) "
    }
   },
   "types_to_exclude": [
    "module",
    "function",
    "builtin_function_or_method",
    "instance",
    "_Feature"
   ],
   "window_display": false
  }
 },
 "nbformat": 4,
 "nbformat_minor": 5
}
